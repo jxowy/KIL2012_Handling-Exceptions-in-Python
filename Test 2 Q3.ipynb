{
 "cells": [
  {
   "cell_type": "code",
   "execution_count": 1,
   "id": "1ecbacfc",
   "metadata": {},
   "outputs": [],
   "source": [
    "import requests\n",
    "api_url= \"https://api.open-meteo.com/v1/forecast\"\n",
    "api_url= \"latitude=2.375&longitude=112.58&timezone=Asia/Singapore\"\n",
    "api_url= \"https://api.open-meteo.com/v1/forecast?latitude=2.5&longitude=112.58&hourly=temperature_2m&timezone=Asia%2FSingapore&forecast_days=1\""
   ]
  },
  {
   "cell_type": "code",
   "execution_count": null,
   "id": "e765071d",
   "metadata": {},
   "outputs": [],
   "source": [
    "import reuqests\n",
    "api_url=\"https://api.open-meteo.com/v1/forecast?latitude=2.5&longitude=112.5&hourly=temperature_2m&timezone=Asia%2FSingapore&forecast_days=1\"\n"
   ]
  }
 ],
 "metadata": {
  "kernelspec": {
   "display_name": "Python 3 (ipykernel)",
   "language": "python",
   "name": "python3"
  },
  "language_info": {
   "codemirror_mode": {
    "name": "ipython",
    "version": 3
   },
   "file_extension": ".py",
   "mimetype": "text/x-python",
   "name": "python",
   "nbconvert_exporter": "python",
   "pygments_lexer": "ipython3",
   "version": "3.11.5"
  }
 },
 "nbformat": 4,
 "nbformat_minor": 5
}
