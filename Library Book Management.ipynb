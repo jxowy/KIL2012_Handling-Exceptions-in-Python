{
 "cells": [
  {
   "cell_type": "code",
   "execution_count": 1,
   "id": "a4daf750",
   "metadata": {},
   "outputs": [
    {
     "name": "stdout",
     "output_type": "stream",
     "text": [
      "Checked Processed by: Sarah Connor\n",
      "Books Checked Out:\n",
      "-1984\n",
      "-Brave New World\n",
      "Checkout Duration: 3 weeks\n",
      "Additional Checkout Details: \n",
      "-Late Fee:$0.25\n",
      "-Renewals Allowed:2\n",
      "Special Conditions for Checkout:\n",
      "-Handle with care\n"
     ]
    }
   ],
   "source": [
    "def checkout_books(librarian_name,*books,duration=\"3 weeks\",special_condition,**additional):\n",
    "    print(\"Checked Processed by: \"+ librarian_name)\n",
    "    print(\"Books Checked Out:\")\n",
    "    for book in books:\n",
    "        print(\"-\"+ book)\n",
    "    print(\"Checkout Duration: \"+ duration)\n",
    "    print(\"Additional Checkout Details: \")\n",
    "    for additional,value in additional.items():\n",
    "        print(\"-\"+additional.replace(\"_\",\" \").title()+\":\"+str(value))\n",
    "    print(\"Special Conditions for Checkout:\")\n",
    "    print(\"-\"+ special_condition)\n",
    "    \n",
    "checkout_books(\"Sarah Connor\",\"1984\",\"Brave New World\",duration=\"3 weeks\",late_fee=\"$0.25\",renewals_allowed=\"2\",special_condition=\"Handle with care\")"
   ]
  },
  {
   "cell_type": "code",
   "execution_count": null,
   "id": "ab000d13",
   "metadata": {},
   "outputs": [],
   "source": []
  },
  {
   "cell_type": "code",
   "execution_count": null,
   "id": "76604dee",
   "metadata": {},
   "outputs": [],
   "source": []
  }
 ],
 "metadata": {
  "kernelspec": {
   "display_name": "Python 3 (ipykernel)",
   "language": "python",
   "name": "python3"
  },
  "language_info": {
   "codemirror_mode": {
    "name": "ipython",
    "version": 3
   },
   "file_extension": ".py",
   "mimetype": "text/x-python",
   "name": "python",
   "nbconvert_exporter": "python",
   "pygments_lexer": "ipython3",
   "version": "3.11.5"
  }
 },
 "nbformat": 4,
 "nbformat_minor": 5
}
