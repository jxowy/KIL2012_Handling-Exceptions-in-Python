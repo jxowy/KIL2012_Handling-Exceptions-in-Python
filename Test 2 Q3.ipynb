{
 "cells": [
  {
   "cell_type": "code",
   "execution_count": 15,
   "id": "f7e441c7",
   "metadata": {},
   "outputs": [
    {
     "name": "stdout",
     "output_type": "stream",
     "text": [
      "{'latitude': 2.375, 'longitude': 112.5, 'generationtime_ms': 0.02002716064453125, 'utc_offset_seconds': 28800, 'timezone': 'Asia/Singapore', 'timezone_abbreviation': '+08', 'elevation': 272.0, 'hourly_units': {'time': 'iso8601', 'temperature_2m': '°C'}, 'hourly': {'time': ['2024-01-11T00:00', '2024-01-11T01:00', '2024-01-11T02:00', '2024-01-11T03:00', '2024-01-11T04:00', '2024-01-11T05:00', '2024-01-11T06:00', '2024-01-11T07:00', '2024-01-11T08:00', '2024-01-11T09:00', '2024-01-11T10:00', '2024-01-11T11:00', '2024-01-11T12:00', '2024-01-11T13:00', '2024-01-11T14:00', '2024-01-11T15:00', '2024-01-11T16:00', '2024-01-11T17:00', '2024-01-11T18:00', '2024-01-11T19:00', '2024-01-11T20:00', '2024-01-11T21:00', '2024-01-11T22:00', '2024-01-11T23:00'], 'temperature_2m': [23.8, 23.5, 23.3, 23.2, 23.1, 23.1, 23.0, 23.0, 24.0, 25.5, 26.6, 27.4, 28.0, 28.1, 28.1, 28.0, 27.6, 26.7, 25.9, 25.2, 24.9, 24.6, 24.3, 24.1]}}\n"
     ]
    }
   ],
   "source": [
    "import requests\n",
    "api_url=\"https://api.open-meteo.com/v1/forecast?latitude=2.5&longitude=112.5&hourly=temperature_2m&timezone=Asia%2FSingapore&forecast_days=1\"\n",
    "response=requests.get(api_url)\n",
    "hourly_temperature_data=response.json()\n",
    "print(hourly_temperature_data)\n"
   ]
  },
  {
   "cell_type": "code",
   "execution_count": 16,
   "id": "6b0dad65",
   "metadata": {},
   "outputs": [
    {
     "ename": "NameError",
     "evalue": "name 'time' is not defined",
     "output_type": "error",
     "traceback": [
      "\u001b[1;31m---------------------------------------------------------------------------\u001b[0m",
      "\u001b[1;31mNameError\u001b[0m                                 Traceback (most recent call last)",
      "Cell \u001b[1;32mIn[16], line 3\u001b[0m\n\u001b[0;32m      1\u001b[0m \u001b[38;5;28;01mfrom\u001b[39;00m \u001b[38;5;21;01mmatplotlib\u001b[39;00m \u001b[38;5;28;01mimport\u001b[39;00m pyplot \u001b[38;5;28;01mas\u001b[39;00m plt\n\u001b[1;32m----> 3\u001b[0m x\u001b[38;5;241m=\u001b[39mtime\n\u001b[0;32m      4\u001b[0m y\u001b[38;5;241m=\u001b[39mtemperature_2m\n\u001b[0;32m      5\u001b[0m plt\u001b[38;5;241m.\u001b[39mplot(x,y,color\u001b[38;5;241m=\u001b[39m\u001b[38;5;124m'\u001b[39m\u001b[38;5;124mred\u001b[39m\u001b[38;5;124m'\u001b[39m)\n",
      "\u001b[1;31mNameError\u001b[0m: name 'time' is not defined"
     ]
    }
   ],
   "source": [
    "from matplotlib import pyplot as plt\n",
    "\n",
    "x=time\n",
    "y=temperature_2m\n",
    "plt.plot(x,y,color='red')\n",
    "plt.title(\"Latitude,longitude,elevation,and the number of forecast days from API response\")\n",
    "plt.xlabel(\"Hour\")\n",
    "plt.ylabel('Temperature')\n",
    "plt.show()"
   ]
  },
  {
   "cell_type": "code",
   "execution_count": null,
   "id": "bbcf86dc",
   "metadata": {},
   "outputs": [],
   "source": []
  }
 ],
 "metadata": {
  "kernelspec": {
   "display_name": "Python 3 (ipykernel)",
   "language": "python",
   "name": "python3"
  },
  "language_info": {
   "codemirror_mode": {
    "name": "ipython",
    "version": 3
   },
   "file_extension": ".py",
   "mimetype": "text/x-python",
   "name": "python",
   "nbconvert_exporter": "python",
   "pygments_lexer": "ipython3",
   "version": "3.11.5"
  }
 },
 "nbformat": 4,
 "nbformat_minor": 5
}
