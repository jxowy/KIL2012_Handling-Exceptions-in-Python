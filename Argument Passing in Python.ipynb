{
 "cells": [
  {
   "cell_type": "code",
   "execution_count": 7,
   "id": "b89674da",
   "metadata": {},
   "outputs": [
    {
     "name": "stdout",
     "output_type": "stream",
     "text": [
      "Aliceis enrolled in Mathematics class.\n"
     ]
    }
   ],
   "source": [
    "def student_information(class_name,student_name):\n",
    "    print(student_name+\"is enrolled in \"+class_name+\" class.\")\n",
    "\n",
    "student_information(\"Mathematics\", \"Alice\")"
   ]
  },
  {
   "cell_type": "code",
   "execution_count": 9,
   "id": "cf9b4b7c",
   "metadata": {},
   "outputs": [
    {
     "name": "stdout",
     "output_type": "stream",
     "text": [
      "Aliceis enrolled in Mathematics class.\n"
     ]
    }
   ],
   "source": [
    "def student_information (class_name,student_name):\n",
    "    print(student_name + \"is enrolled in \" + class_name + \" class.\")\n",
    "student_information(class_name=\"Mathematics\",student_name=\"Alice\")"
   ]
  },
  {
   "cell_type": "code",
   "execution_count": 11,
   "id": "1422bf6a",
   "metadata": {},
   "outputs": [
    {
     "name": "stdout",
     "output_type": "stream",
     "text": [
      "Aliceis enrolled in Mathematics class.\n"
     ]
    }
   ],
   "source": [
    "def student_information (class_name,student_name):\n",
    "    print(student_name + \"is enrolled in \" + class_name + \" class.\")\n",
    "student_information(student_name=\"Alice\",class_name=\"Mathematics\")"
   ]
  },
  {
   "cell_type": "code",
   "execution_count": 15,
   "id": "23891466",
   "metadata": {},
   "outputs": [
    {
     "name": "stdout",
     "output_type": "stream",
     "text": [
      "Student Name: Lina\n",
      "Enrolled Course: Introduction to Python\n"
     ]
    }
   ],
   "source": [
    "def enroll_student(student_name, course=\"Introduction to Python\"):\n",
    "    print(\"Student Name: \" + student_name)\n",
    "    print(\"Enrolled Course: \" + course)\n",
    "enroll_student(student_name = \"Lina\")"
   ]
  },
  {
   "cell_type": "code",
   "execution_count": 16,
   "id": "e0c4570e",
   "metadata": {},
   "outputs": [
    {
     "name": "stdout",
     "output_type": "stream",
     "text": [
      "Student Name: Lina\n",
      "Enrolled Course: Data Structure\n"
     ]
    }
   ],
   "source": [
    "def enroll_student(student_name, course=\"Introduction to Python\"):\n",
    "    print(\"Student Name: \" + student_name)\n",
    "    print(\"Enrolled Course: \" + course)\n",
    "enroll_student(student_name = \"Lina\", course=\"Data Structure\")"
   ]
  },
  {
   "cell_type": "code",
   "execution_count": 17,
   "id": "aee8325d",
   "metadata": {},
   "outputs": [
    {
     "name": "stdout",
     "output_type": "stream",
     "text": [
      "Student: Emily\n",
      "ENrolled in:\n",
      "-Biology 101\n",
      "-Chemistry 101\n",
      "-Physics 101\n"
     ]
    }
   ],
   "source": [
    "def enroll_in_courses(student_name,*courses):\n",
    "    print(\"Student: \" + student_name)\n",
    "    print(\"ENrolled in:\")\n",
    "    for course in courses:\n",
    "        print(\"-\"+ course)\n",
    "enroll_in_courses(\"Emily\",\"Biology 101\", \"Chemistry 101\", \"Physics 101\")"
   ]
  },
  {
   "cell_type": "code",
   "execution_count": null,
   "id": "c9c1561c",
   "metadata": {},
   "outputs": [],
   "source": []
  }
 ],
 "metadata": {
  "kernelspec": {
   "display_name": "Python 3 (ipykernel)",
   "language": "python",
   "name": "python3"
  },
  "language_info": {
   "codemirror_mode": {
    "name": "ipython",
    "version": 3
   },
   "file_extension": ".py",
   "mimetype": "text/x-python",
   "name": "python",
   "nbconvert_exporter": "python",
   "pygments_lexer": "ipython3",
   "version": "3.11.5"
  }
 },
 "nbformat": 4,
 "nbformat_minor": 5
}
