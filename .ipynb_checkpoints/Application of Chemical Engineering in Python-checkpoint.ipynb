{
 "cells": [
  {
   "cell_type": "code",
   "execution_count": 2,
   "id": "e4438ba9",
   "metadata": {},
   "outputs": [],
   "source": [
    "# Import necessary libraries\n",
    "import numpy as np\n",
    "import scipy as sc"
   ]
  },
  {
   "cell_type": "code",
   "execution_count": 4,
   "id": "a2cefa9c",
   "metadata": {},
   "outputs": [],
   "source": [
    "#Define the coefficient matrix A\n",
    "A=np.array([[1,3,5],[2,5,1],[2,3,8]])"
   ]
  },
  {
   "cell_type": "code",
   "execution_count": 5,
   "id": "b2bc23a7",
   "metadata": {},
   "outputs": [
    {
     "name": "stdout",
     "output_type": "stream",
     "text": [
      "[[1 3 5]\n",
      " [2 5 1]\n",
      " [2 3 8]]\n"
     ]
    }
   ],
   "source": [
    "print (A)"
   ]
  },
  {
   "cell_type": "code",
   "execution_count": 6,
   "id": "e9dd633b",
   "metadata": {},
   "outputs": [],
   "source": [
    "#Define right-hand side vector b\n",
    "b=np.array([[10],[8],[3]])"
   ]
  },
  {
   "cell_type": "code",
   "execution_count": 8,
   "id": "3a1f1774",
   "metadata": {},
   "outputs": [
    {
     "name": "stdout",
     "output_type": "stream",
     "text": [
      "[[10]\n",
      " [ 8]\n",
      " [ 3]]\n"
     ]
    }
   ],
   "source": [
    "print(b)"
   ]
  },
  {
   "cell_type": "code",
   "execution_count": 9,
   "id": "82a474dc",
   "metadata": {},
   "outputs": [],
   "source": [
    "#Calculate the inverse of A and multiply by b to find the solution vector\n",
    "C= sc.linalg.inv(A).dot(b)"
   ]
  },
  {
   "cell_type": "code",
   "execution_count": 10,
   "id": "17254c69",
   "metadata": {},
   "outputs": [
    {
     "name": "stdout",
     "output_type": "stream",
     "text": [
      "[[-9.28]\n",
      " [ 5.16]\n",
      " [ 0.76]]\n"
     ]
    }
   ],
   "source": [
    "print(C)"
   ]
  },
  {
   "cell_type": "code",
   "execution_count": 11,
   "id": "6a3b0339",
   "metadata": {},
   "outputs": [],
   "source": [
    "#Alternatively, use the solve function to find the solution vector directly\n",
    "D= sc.linalg.solve(A,b)"
   ]
  },
  {
   "cell_type": "code",
   "execution_count": 12,
   "id": "10f77afb",
   "metadata": {},
   "outputs": [
    {
     "name": "stdout",
     "output_type": "stream",
     "text": [
      "[[-9.28]\n",
      " [ 5.16]\n",
      " [ 0.76]]\n"
     ]
    }
   ],
   "source": [
    "print(D)"
   ]
  },
  {
   "cell_type": "markdown",
   "id": "5b86d682",
   "metadata": {},
   "source": [
    "## Example 2"
   ]
  },
  {
   "cell_type": "code",
   "execution_count": 20,
   "id": "afa57bb9",
   "metadata": {},
   "outputs": [],
   "source": [
    "import numpy as np\n",
    "from scipy.linalg import solve"
   ]
  },
  {
   "cell_type": "code",
   "execution_count": 21,
   "id": "c452a920",
   "metadata": {},
   "outputs": [],
   "source": [
    "# Coeffcicient matrix\n",
    "A= np.array([[3,2,],[1,2]])"
   ]
  },
  {
   "cell_type": "code",
   "execution_count": 22,
   "id": "03643316",
   "metadata": {},
   "outputs": [
    {
     "name": "stdout",
     "output_type": "stream",
     "text": [
      "[[3 2]\n",
      " [1 2]]\n"
     ]
    }
   ],
   "source": [
    "print(A)"
   ]
  },
  {
   "cell_type": "code",
   "execution_count": 23,
   "id": "6243bbb6",
   "metadata": {},
   "outputs": [],
   "source": [
    "b=np.array([1,0])"
   ]
  },
  {
   "cell_type": "code",
   "execution_count": 24,
   "id": "bf35258b",
   "metadata": {},
   "outputs": [
    {
     "name": "stdout",
     "output_type": "stream",
     "text": [
      "[1 0]\n"
     ]
    }
   ],
   "source": [
    "print(b)"
   ]
  },
  {
   "cell_type": "code",
   "execution_count": 25,
   "id": "c4e39ffc",
   "metadata": {},
   "outputs": [],
   "source": [
    "solution= solve (A,b)"
   ]
  },
  {
   "cell_type": "code",
   "execution_count": 27,
   "id": "dc2ff5b4",
   "metadata": {},
   "outputs": [
    {
     "name": "stdout",
     "output_type": "stream",
     "text": [
      "[ 0.5  -0.25]\n"
     ]
    }
   ],
   "source": [
    "print(solution)"
   ]
  },
  {
   "cell_type": "markdown",
   "id": "8ff57eee",
   "metadata": {},
   "source": [
    "# Solving Ordinary Differential Equations (ODE)"
   ]
  },
  {
   "cell_type": "code",
   "execution_count": 28,
   "id": "45238051",
   "metadata": {},
   "outputs": [],
   "source": [
    "#Python program to implement Runge Kutta Method\n",
    "#A sample differential equation \"dy/dx = (x-y)/2\"\n",
    "def dydx(x,y):\n",
    "    return((x-y)/2)"
   ]
  },
  {
   "cell_type": "code",
   "execution_count": 41,
   "id": "df23b940",
   "metadata": {},
   "outputs": [
    {
     "name": "stdout",
     "output_type": "stream",
     "text": [
      "The value of y at x is: 3.2462555535430524\n"
     ]
    }
   ],
   "source": [
    "#Find value of y for a given x using step size h\n",
    "#and initial value y0 at x0\n",
    "def rungeKutta(x0,y0,x,h):\n",
    "    #Count number of iterations using step size or step height\n",
    "    n= int((x-x0)/h)\n",
    "    #Iterate for number of iterations\n",
    "    y=y0\n",
    "    for i in range (1,n+1):\n",
    "        #Apply Runge Kutta Formulas to find next value of y \n",
    "        k1=dydx(x0,y)\n",
    "        k2=dydx(x0 + 0.5*h,y+0.5*k1*h)\n",
    "        k3=dydx(x0+0.5*h,y+0.5*k2*h)\n",
    "        k4=dydx(x0+h,y+k3*h)\n",
    "    \n",
    "        #Update next value of y\n",
    "        y= y+(1.0/6.0)*h*(k1+2*k2+2*k3+k4)\n",
    "    \n",
    "        #Update next value of x \n",
    "        x0=x0+h\n",
    "    return y\n",
    "#Driver method\n",
    "x0=0\n",
    "y=1\n",
    "x=5\n",
    "h=0.2\n",
    "print('The value of y at x is:',rungeKutta(x0,y,x,h))"
   ]
  },
  {
   "cell_type": "code",
   "execution_count": 34,
   "id": "e4e2c6a3",
   "metadata": {},
   "outputs": [
    {
     "name": "stdout",
     "output_type": "stream",
     "text": [
      "25\n"
     ]
    }
   ],
   "source": [
    "n= int((x-x0)/h)\n",
    "print(n)"
   ]
  },
  {
   "cell_type": "code",
   "execution_count": 37,
   "id": "916e37e2",
   "metadata": {},
   "outputs": [
    {
     "name": "stdout",
     "output_type": "stream",
     "text": [
      "1\n",
      "2\n",
      "3\n",
      "4\n",
      "5\n",
      "6\n",
      "7\n",
      "8\n",
      "9\n",
      "10\n",
      "11\n",
      "12\n",
      "13\n",
      "14\n",
      "15\n",
      "16\n",
      "17\n",
      "18\n",
      "19\n",
      "20\n",
      "21\n",
      "22\n",
      "23\n",
      "24\n",
      "25\n"
     ]
    }
   ],
   "source": [
    "for i in range (1,n+1):\n",
    "    print(i)\n"
   ]
  },
  {
   "cell_type": "markdown",
   "id": "8f8bc149",
   "metadata": {},
   "source": [
    "# Pressure Profile in A Vessel"
   ]
  },
  {
   "cell_type": "code",
   "execution_count": 47,
   "id": "5ab63b42",
   "metadata": {},
   "outputs": [
    {
     "data": {
      "image/png": "[encoded data removed]",
      "text/plain": [
       "<Figure size 640x480 with 1 Axes>"
      ]
     },
     "metadata": {},
     "output_type": "display_data"
    }
   ],
   "source": [
    "#Importing necessary libraries\n",
    "import numpy as np\n",
    "import scipy as sc\n",
    "import matplotlib.pyplot as plt\n",
    "\n",
    "#parameter values for original SEIR\n",
    "V= 1154 #m3\n",
    "R=8.314 #R[J/(mol*K)]\n",
    "T=120 #°C\n",
    "\n",
    "mass_in= 473220 #kg/h\n",
    "MW_in= 56.6\n",
    "mass_out=28742 #kg/h\n",
    "MW_out=40.4\n",
    "\n",
    "#calculation, time in minutes\n",
    "Tk=T+273.15 #Convert to Kelvin\n",
    "mol_in= mass_in/MW_in/60 #kmol/min\n",
    "mol_out=mass_out/MW_out/60 #kmol/min\n",
    "\n",
    "#initial condition\n",
    "P0=1830 #kPa\n",
    "\n",
    "\n",
    "#differential equation using ideal gas\n",
    "def dPdt(P,t):\n",
    "    #the differential equations\n",
    "    dpdt=mol_in-mol_out/(V/(R*Tk))\n",
    "    \n",
    "    return dpdt\n",
    "\n",
    "#create the x axis for the integration\n",
    "#time to response is 20 minutes\n",
    "start=0\n",
    "end=30\n",
    "t=np.linspace(start,end,end)\n",
    "\n",
    "Pinitial=np.linspace(P0,P0,end)\n",
    "\n",
    "#integration of the differential equation\n",
    "P=sc.integrate.odeint(dPdt,P0,t)\n",
    "\n",
    "#Plotting the results\n",
    "plt.figure()\n",
    "plt.plot(t,P,'r',label='Pressure Increases')\n",
    "plt.plot(t,Pinitial,'b--',label='Original Pressure',linewidth=2)\n",
    "plt.title(f'System Pressure Profile for total Volume of {V} m^3')\n",
    "plt.xlabel('Times(minutes)')\n",
    "plt.ylabel('Pressure(kPa)')\n",
    "plt.grid(True,which='both',linestyle='--',linewidth=0.5)\n",
    "plt.minorticks_on()\n",
    "plt.legend()\n",
    "plt.show()"
   ]
  },
  {
   "cell_type": "code",
   "execution_count": null,
   "id": "5c87ef87",
   "metadata": {},
   "outputs": [],
   "source": []
  },
  {
   "cell_type": "code",
   "execution_count": null,
   "id": "f860006c",
   "metadata": {},
   "outputs": [],
   "source": []
  }
 ],
 "metadata": {
  "kernelspec": {
   "display_name": "Python 3 (ipykernel)",
   "language": "python",
   "name": "python3"
  },
  "language_info": {
   "codemirror_mode": {
    "name": "ipython",
    "version": 3
   },
   "file_extension": ".py",
   "mimetype": "text/x-python",
   "name": "python",
   "nbconvert_exporter": "python",
   "pygments_lexer": "ipython3",
   "version": "3.11.5"
  }
 },
 "nbformat": 4,
 "nbformat_minor": 5
}
