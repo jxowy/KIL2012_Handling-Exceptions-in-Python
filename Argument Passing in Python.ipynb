{
 "cells": [
  {
   "cell_type": "code",
   "execution_count": 7,
   "id": "2925e690",
   "metadata": {},
   "outputs": [
    {
     "name": "stdout",
     "output_type": "stream",
     "text": [
      "Aliceis enrolled in Mathematics class.\n"
     ]
    }
   ],
   "source": [
    "def student_information(class_name,student_name):\n",
    "    print(student_name+\"is enrolled in \"+class_name+\" class.\")\n",
    "\n",
    "student_information(\"Mathematics\", \"Alice\")"
   ]
  },
  {
   "cell_type": "code",
   "execution_count": 9,
   "id": "143e15a3",
   "metadata": {},
   "outputs": [
    {
     "name": "stdout",
     "output_type": "stream",
     "text": [
      "Aliceis enrolled in Mathematics class.\n"
     ]
    }
   ],
   "source": [
    "def student_information (class_name,student_name):\n",
    "    print(student_name + \"is enrolled in \" + class_name + \" class.\")\n",
    "student_information(class_name=\"Mathematics\",student_name=\"Alice\")"
   ]
  },
  {
   "cell_type": "code",
   "execution_count": 11,
   "id": "3030cbdd",
   "metadata": {},
   "outputs": [
    {
     "name": "stdout",
     "output_type": "stream",
     "text": [
      "Aliceis enrolled in Mathematics class.\n"
     ]
    }
   ],
   "source": [
    "def student_information (class_name,student_name):\n",
    "    print(student_name + \"is enrolled in \" + class_name + \" class.\")\n",
    "student_information(student_name=\"Alice\",class_name=\"Mathematics\")"
   ]
  },
  {
   "cell_type": "code",
   "execution_count": 15,
   "id": "e9aff2c5",
   "metadata": {},
   "outputs": [
    {
     "name": "stdout",
     "output_type": "stream",
     "text": [
      "Student Name: Lina\n",
      "Enrolled Course: Introduction to Python\n"
     ]
    }
   ],
   "source": [
    "def enroll_student(student_name, course=\"Introduction to Python\"):\n",
    "    print(\"Student Name: \" + student_name)\n",
    "    print(\"Enrolled Course: \" + course)\n",
    "enroll_student(student_name = \"Lina\")"
   ]
  },
  {
   "cell_type": "code",
   "execution_count": 16,
   "id": "5dbc2a4d",
   "metadata": {},
   "outputs": [
    {
     "name": "stdout",
     "output_type": "stream",
     "text": [
      "Student Name: Lina\n",
      "Enrolled Course: Data Structure\n"
     ]
    }
   ],
   "source": [
    "def enroll_student(student_name, course=\"Introduction to Python\"):\n",
    "    print(\"Student Name: \" + student_name)\n",
    "    print(\"Enrolled Course: \" + course)\n",
    "enroll_student(student_name = \"Lina\", course=\"Data Structure\")"
   ]
  },
  {
   "cell_type": "code",
   "execution_count": null,
   "id": "bb66ce58",
   "metadata": {},
   "outputs": [],
   "source": [
    "def enroll_in_courses(student_name,*courses)"
   ]
  }
 ],
 "metadata": {
  "kernelspec": {
   "display_name": "Python 3 (ipykernel)",
   "language": "python",
   "name": "python3"
  },
  "language_info": {
   "codemirror_mode": {
    "name": "ipython",
    "version": 3
   },
   "file_extension": ".py",
   "mimetype": "text/x-python",
   "name": "python",
   "nbconvert_exporter": "python",
   "pygments_lexer": "ipython3",
   "version": "3.11.5"
  }
 },
 "nbformat": 4,
 "nbformat_minor": 5
}
