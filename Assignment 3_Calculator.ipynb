{
 "cells": [
  {
   "cell_type": "code",
   "execution_count": 1,
   "id": "87adc34e",
   "metadata": {},
   "outputs": [],
   "source": [
    "def simple_calculator():\n",
    "    while True:\n",
    "        try:\n",
    "            num1= float(input(\"Enter the first number: \"))\n",
    "            num2= float(input(\"Enter the second number: \"))\n",
    "            operation=input(\"Enter an operation(+,-,*,/):\")\n",
    "        \n",
    "            if operation==\"+\":\n",
    "                result=num1+num2\n",
    "            elif operation==\"-\":\n",
    "                result=num1-num2\n",
    "            elif operation==\"*\":\n",
    "                result=num1*num2\n",
    "            elif operation==\"/\":\n",
    "                result=num1/num2\n",
    "            else:\n",
    "                print(\"Invalid operation. Please choose +,-,*,/.\")\n",
    "                continue\n",
    "            print(\"The result is:\", result)\n",
    "            break\n",
    "    \n",
    "        except ValueError:\n",
    "                print(\"Invalid input. Please enter a number.\")\n",
    "        except ZeroDivisionError:\n",
    "                print(\"Error: Cannot devide by zero.\")"
   ]
  },
  {
   "cell_type": "code",
   "execution_count": 2,
   "id": "0ea55929",
   "metadata": {},
   "outputs": [
    {
     "name": "stdout",
     "output_type": "stream",
     "text": [
      "Enter the first number: 3\n",
      "Enter the second number: 0\n",
      "Enter an operation(+,-,*,/):/\n",
      "Error: Cannot devide by zero.\n",
      "Enter the first number: 5\n",
      "Enter the second number: 3\n",
      "Enter an operation(+,-,*,/):*\n",
      "The result is: 15.0\n",
      "None\n"
     ]
    }
   ],
   "source": [
    "print(simple_calculator())"
   ]
  },
  {
   "cell_type": "code",
   "execution_count": null,
   "id": "4f862f69",
   "metadata": {},
   "outputs": [],
   "source": []
  }
 ],
 "metadata": {
  "kernelspec": {
   "display_name": "Python 3 (ipykernel)",
   "language": "python",
   "name": "python3"
  },
  "language_info": {
   "codemirror_mode": {
    "name": "ipython",
    "version": 3
   },
   "file_extension": ".py",
   "mimetype": "text/x-python",
   "name": "python",
   "nbconvert_exporter": "python",
   "pygments_lexer": "ipython3",
   "version": "3.11.5"
  }
 },
 "nbformat": 4,
 "nbformat_minor": 5
}
