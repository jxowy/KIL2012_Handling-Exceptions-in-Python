{
 "cells": [
  {
   "cell_type": "code",
   "execution_count": 7,
   "id": "cb53217e",
   "metadata": {},
   "outputs": [
    {
     "name": "stdout",
     "output_type": "stream",
     "text": [
      "Aliceis enrolled in Mathematics class.\n"
     ]
    }
   ],
   "source": [
    "def student_information(class_name,student_name):\n",
    "    print(student_name+\"is enrolled in \"+class_name+\" class.\")\n",
    "\n",
    "student_information(\"Mathematics\", \"Alice\")"
   ]
  },
  {
   "cell_type": "code",
   "execution_count": 9,
   "id": "9cf5f8db",
   "metadata": {},
   "outputs": [
    {
     "name": "stdout",
     "output_type": "stream",
     "text": [
      "Aliceis enrolled in Mathematics class.\n"
     ]
    }
   ],
   "source": [
    "def student_information (class_name,student_name):\n",
    "    print(student_name + \"is enrolled in \" + class_name + \" class.\")\n",
    "student_information(class_name=\"Mathematics\",student_name=\"Alice\")"
   ]
  },
  {
   "cell_type": "code",
   "execution_count": 11,
   "id": "3645f3c2",
   "metadata": {},
   "outputs": [
    {
     "name": "stdout",
     "output_type": "stream",
     "text": [
      "Aliceis enrolled in Mathematics class.\n"
     ]
    }
   ],
   "source": [
    "def student_information (class_name,student_name):\n",
    "    print(student_name + \"is enrolled in \" + class_name + \" class.\")\n",
    "student_information(student_name=\"Alice\",class_name=\"Mathematics\")"
   ]
  },
  {
   "cell_type": "code",
   "execution_count": 15,
   "id": "2ad434f9",
   "metadata": {},
   "outputs": [
    {
     "name": "stdout",
     "output_type": "stream",
     "text": [
      "Student Name: Lina\n",
      "Enrolled Course: Introduction to Python\n"
     ]
    }
   ],
   "source": [
    "def enroll_student(student_name, course=\"Introduction to Python\"):\n",
    "    print(\"Student Name: \" + student_name)\n",
    "    print(\"Enrolled Course: \" + course)\n",
    "enroll_student(student_name = \"Lina\")"
   ]
  },
  {
   "cell_type": "code",
   "execution_count": 22,
   "id": "e6cee817",
   "metadata": {},
   "outputs": [
    {
     "name": "stdout",
     "output_type": "stream",
     "text": [
      "Student Name: Lina\n",
      "Enrolled Course: Data Structure\n"
     ]
    }
   ],
   "source": [
    "def enroll_student(student_name, course=\"Introduction to Python\"):\n",
    "    print(\"Student Name: \" + student_name)\n",
    "    print(\"Enrolled Course: \" + course)\n",
    "enroll_student(student_name = \"Lina\", course=\"Data Structure\")"
   ]
  },
  {
   "cell_type": "code",
   "execution_count": 17,
   "id": "4d851453",
   "metadata": {},
   "outputs": [
    {
     "name": "stdout",
     "output_type": "stream",
     "text": [
      "Student: Emily\n",
      "ENrolled in:\n",
      "-Biology 101\n",
      "-Chemistry 101\n",
      "-Physics 101\n"
     ]
    }
   ],
   "source": [
    "def enroll_in_courses(student_name,*courses):\n",
    "    print(\"Student: \" + student_name)\n",
    "    print(\"Enrolled in:\")\n",
    "    for course in courses:\n",
    "        print(\"-\"+ course)\n",
    "enroll_in_courses(\"Emily\",\"Biology 101\", \"Chemistry 101\", \"Physics 101\")"
   ]
  },
  {
   "cell_type": "code",
   "execution_count": 27,
   "id": "1657b7b7",
   "metadata": {},
   "outputs": [
    {
     "name": "stdout",
     "output_type": "stream",
     "text": [
      "Enrolling Smith with the following details:\n",
      "-Course:Algebra_II\n",
      "-Semester:One\n",
      "-Payment Method:Credit Card\n"
     ]
    }
   ],
   "source": [
    "def enroll_student(student_name, **details):\n",
    "    print(\"Enrolling \" + student_name+ \" with the following details:\")\n",
    "    for detail, value in details.items():\n",
    "        print(\"-\"+detail.replace(\"_\",\" \").title()+\":\"+str(value))\n",
    "enroll_student(\"Smith\",course=\"Algebra_II\",semester=\"One\",payment_method=\"Credit Card\")"
   ]
  },
  {
   "cell_type": "code",
   "execution_count": null,
   "id": "b21c4d4a",
   "metadata": {},
   "outputs": [],
   "source": []
  },
  {
   "cell_type": "code",
   "execution_count": null,
   "id": "20caa7a1",
   "metadata": {},
   "outputs": [],
   "source": []
  },
  {
   "cell_type": "code",
   "execution_count": null,
   "id": "130c6dbf",
   "metadata": {},
   "outputs": [],
   "source": []
  }
 ],
 "metadata": {
  "kernelspec": {
   "display_name": "Python 3 (ipykernel)",
   "language": "python",
   "name": "python3"
  },
  "language_info": {
   "codemirror_mode": {
    "name": "ipython",
    "version": 3
   },
   "file_extension": ".py",
   "mimetype": "text/x-python",
   "name": "python",
   "nbconvert_exporter": "python",
   "pygments_lexer": "ipython3",
   "version": "3.11.5"
  }
 },
 "nbformat": 4,
 "nbformat_minor": 5
}
